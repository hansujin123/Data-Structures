{
  "nbformat": 4,
  "nbformat_minor": 0,
  "metadata": {
    "colab": {
      "provenance": []
    },
    "kernelspec": {
      "name": "python3",
      "display_name": "Python 3"
    },
    "language_info": {
      "name": "python"
    }
  },
  "cells": [
    {
      "cell_type": "markdown",
      "source": [
        "# 1. LeetCode 225. Implement Stack using Queues"
      ],
      "metadata": {
        "id": "V7X6DsqVbLVD"
      }
    },
    {
      "cell_type": "code",
      "source": [
        "class MyStack:\n",
        "    def __init__(self):\n",
        "        self.q = []\n",
        "\n",
        "    def push(self, x: int) -> None:\n",
        "        self.q.append(x)\n",
        "        for _ in range(len(self.q) - 1):\n",
        "            self.q.append(self.q.pop(0))\n",
        "\n",
        "    def pop(self) -> int:\n",
        "        return self.q.pop(0)\n",
        "\n",
        "    def top(self) -> int:\n",
        "        return self.q[0]\n",
        "\n",
        "    def empty(self) -> bool:\n",
        "        return not self.q"
      ],
      "metadata": {
        "id": "bLvYdL4PbLFe"
      },
      "execution_count": null,
      "outputs": []
    },
    {
      "cell_type": "markdown",
      "source": [
        "# 2. LeetCode 232. Implement Queue using Stacks"
      ],
      "metadata": {
        "id": "oFNZ-_Y6bTaK"
      }
    },
    {
      "cell_type": "code",
      "execution_count": null,
      "metadata": {
        "id": "-P5RAtrlaqRI"
      },
      "outputs": [],
      "source": [
        "class MyQueue:\n",
        "    def __init__(self):\n",
        "        self.stack1 = []\n",
        "        self.stack2 = []\n",
        "\n",
        "    def push(self, x: int) -> None:\n",
        "        self.stack1.append(x)\n",
        "\n",
        "    def pop(self) -> int:\n",
        "        self.move()\n",
        "        return self.stack2.pop()\n",
        "\n",
        "    def peek(self) -> int:\n",
        "        self.move()\n",
        "        return self.stack2[-1]\n",
        "\n",
        "    def empty(self) -> bool:\n",
        "        return not self.stack1 and not self.stack2\n",
        "\n",
        "    def move(self):\n",
        "        if not self.stack2:\n",
        "            while self.stack1:\n",
        "                self.stack2.append(self.stack1.pop())"
      ]
    },
    {
      "cell_type": "markdown",
      "source": [
        "# 3. 교재의 큐 연습문제 전부"
      ],
      "metadata": {
        "id": "UmPvBWtDbULR"
      }
    },
    {
      "cell_type": "code",
      "source": [
        "# 1번\n",
        "\n",
        "class ListQueue:\n",
        "    def __init__(self):\n",
        "        self.__queue = []\n",
        "\n",
        "    def enqueue(self, x):\n",
        "        self.__queue.insert(0, x)\n",
        "\n",
        "    def dequeue(self):\n",
        "        return self.__queue.pop()\n",
        "\n",
        "    def front(self):\n",
        "        return self.__queue[-1]\n",
        "\n",
        "    def isEmpty(self) -> bool:\n",
        "        return len(self.__queue) == 0\n",
        "\n",
        "    def dequeueAll(self):\n",
        "        self.__queue.clear()"
      ],
      "metadata": {
        "id": "rrQSNAA0bYdr"
      },
      "execution_count": null,
      "outputs": []
    },
    {
      "cell_type": "code",
      "source": [
        "# 2번\n",
        "\n",
        "from collections import deque\n",
        "\n",
        "def isValidMirrorString(s):\n",
        "    if s[0] != '{' or s[-1] != '}':\n",
        "        return False\n",
        "\n",
        "    s = s[1:-1]\n",
        "    if '$' not in s:\n",
        "        return False\n",
        "\n",
        "    left, right = s.split('$')\n",
        "    q = deque()\n",
        "\n",
        "    for ch in left:\n",
        "        q.append(ch)\n",
        "\n",
        "    for ch in right:\n",
        "        if not q or ch != q.pop():\n",
        "            return False\n",
        "\n",
        "    return not q"
      ],
      "metadata": {
        "id": "C03h_M15btms"
      },
      "execution_count": null,
      "outputs": []
    },
    {
      "cell_type": "code",
      "source": [
        "# 3번\n",
        "\n",
        "from collections import deque\n",
        "\n",
        "def copyQueue(a):\n",
        "    b = deque()\n",
        "    temp = deque()\n",
        "\n",
        "    while a:\n",
        "        item = a.popleft()\n",
        "        b.append(item)\n",
        "        temp.append(item)\n",
        "\n",
        "    while temp:\n",
        "        a.append(temp.popleft())\n",
        "\n",
        "    return b"
      ],
      "metadata": {
        "id": "8QoRYVqLbt7I"
      },
      "execution_count": null,
      "outputs": []
    },
    {
      "cell_type": "code",
      "source": [
        "# 4번\n",
        "\n",
        "from collections import deque\n",
        "\n",
        "class MyStack:\n",
        "    def __init__(self):\n",
        "        self.q1 = deque()\n",
        "        self.q2 = deque()\n",
        "\n",
        "    def push(self, x):\n",
        "        self.q1.append(x)\n",
        "\n",
        "    def pop(self):\n",
        "        while len(self.q1) > 1:\n",
        "            self.q2.append(self.q1.popleft())\n",
        "        res = self.q1.popleft()\n",
        "        self.q1, self.q2 = self.q2, self.q1\n",
        "        return res"
      ],
      "metadata": {
        "id": "bfBxI-4sbuTQ"
      },
      "execution_count": null,
      "outputs": []
    },
    {
      "cell_type": "code",
      "source": [
        "# 5번\n",
        "\n",
        "class MyQueue:\n",
        "    def __init__(self):\n",
        "        self.stack1 = []\n",
        "        self.stack2 = []\n",
        "\n",
        "    def enqueue(self, x):\n",
        "        self.stack1.append(x)\n",
        "\n",
        "    def dequeue(self):\n",
        "        if not self.stack2:\n",
        "            while self.stack1:\n",
        "                self.stack2.append(self.stack1.pop())\n",
        "        return self.stack2.pop()"
      ],
      "metadata": {
        "id": "t0vPubLBb3HH"
      },
      "execution_count": null,
      "outputs": []
    },
    {
      "cell_type": "markdown",
      "source": [
        "6번\n",
        "\n",
        "Deque는 양방향 삽입, 삭제가 가능한 자료구조로 수행 시간은 삽입, 삭제 모두 O(1)이다."
      ],
      "metadata": {
        "id": "jZM-ELLncLsT"
      }
    },
    {
      "cell_type": "markdown",
      "source": [
        "7번\n",
        "\n",
        "LinkedListBasic을 사용한다면 삽입 수행 시간은 O(n), 삭제 수행 시간은 O(1)이다."
      ],
      "metadata": {
        "id": "0UeGnXScdwkD"
      }
    },
    {
      "cell_type": "code",
      "source": [
        "# 8번\n",
        "\n",
        "from collections import deque\n",
        "\n",
        "class ListQueue:\n",
        "    def __init__(self):\n",
        "        self.__queue = deque()\n",
        "\n",
        "    def enqueue(self, x):\n",
        "        self.__queue.append(x)\n",
        "\n",
        "    def dequeue(self):\n",
        "        if self.isEmpty():\n",
        "            return None\n",
        "        return self.__queue.popleft()\n",
        "\n",
        "    def front(self):\n",
        "        if self.isEmpty():\n",
        "            return None\n",
        "        return self.__queue[0]\n",
        "\n",
        "    def isEmpty(self) -> bool:\n",
        "        return len(self.__queue) == 0\n",
        "\n",
        "    def dequeueAll(self):\n",
        "        self.__queue.clear()\n",
        "\n",
        "    def printQueue(self):\n",
        "        print(\"Queue from front:\", end=' ')\n",
        "        for item in self.__queue:\n",
        "            print(item, end=' ')\n",
        "        print()"
      ],
      "metadata": {
        "id": "hxm08NjOb3TK"
      },
      "execution_count": null,
      "outputs": []
    }
  ]
}